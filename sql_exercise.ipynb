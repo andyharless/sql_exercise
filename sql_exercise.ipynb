{
 "cells": [
  {
   "cell_type": "code",
   "execution_count": 9,
   "metadata": {},
   "outputs": [],
   "source": [
    "import os\n",
    "import pymysql\n",
    "import pandas as pd"
   ]
  },
  {
   "cell_type": "code",
   "execution_count": 6,
   "metadata": {},
   "outputs": [],
   "source": [
    "conn = pymysql.connect(host='localhost', user='localuser', db='country_club')"
   ]
  },
  {
   "cell_type": "code",
   "execution_count": 53,
   "metadata": {},
   "outputs": [],
   "source": [
    "def run_query(query, save=False):\n",
    "    df = pd.read_sql_query(query, conn)\n",
    "    print(df.to_string(index=False))\n",
    "    if save:\n",
    "        return(df)"
   ]
  },
  {
   "cell_type": "code",
   "execution_count": 54,
   "metadata": {},
   "outputs": [
    {
     "name": "stdout",
     "output_type": "stream",
     "text": [
      "facid             name  membercost  guestcost  initialoutlay  monthlymaintenance\n",
      "    0   Tennis Court 1         5.0       25.0          10000                 200\n",
      "    1   Tennis Court 2         5.0       25.0           8000                 200\n",
      "    2  Badminton Court         0.0       15.5           4000                  50\n",
      "    3     Table Tennis         0.0        5.0            320                  10\n",
      "    4   Massage Room 1         9.9       80.0           4000                3000\n",
      "    5   Massage Room 2         9.9       80.0           4000                3000\n",
      "    6     Squash Court         3.5       17.5           5000                  80\n",
      "    7    Snooker Table         0.0        5.0            450                  15\n",
      "    8       Pool Table         0.0        5.0            400                  15\n"
     ]
    }
   ],
   "source": [
    "run_query('''\n",
    "\n",
    "SELECT * \n",
    "  FROM Facilities\n",
    "\n",
    "''')"
   ]
  },
  {
   "cell_type": "markdown",
   "metadata": {},
   "source": [
    "Q1: Some of the facilities charge a fee to members, but some do not.\n",
    "Please list the names of the facilities that do."
   ]
  },
  {
   "cell_type": "code",
   "execution_count": 55,
   "metadata": {},
   "outputs": [
    {
     "name": "stdout",
     "output_type": "stream",
     "text": [
      "name\n",
      "Tennis Court 1\n",
      "Tennis Court 2\n",
      "Massage Room 1\n",
      "Massage Room 2\n",
      "  Squash Court\n"
     ]
    }
   ],
   "source": [
    "run_query('''\n",
    "\n",
    "SELECT name\n",
    "  FROM Facilities\n",
    " WHERE membercost > 0\n",
    "\n",
    "''')"
   ]
  },
  {
   "cell_type": "markdown",
   "metadata": {},
   "source": [
    "Q2: How many facilities do not charge a fee to members?"
   ]
  },
  {
   "cell_type": "code",
   "execution_count": 56,
   "metadata": {},
   "outputs": [
    {
     "name": "stdout",
     "output_type": "stream",
     "text": [
      "How many do not charge a fee to members?\n",
      "                                       5\n"
     ]
    }
   ],
   "source": [
    "run_query('''\n",
    "\n",
    "SELECT COUNT(name) AS \"How many do not charge a fee to members?\"\n",
    "  FROM Facilities\n",
    " WHERE membercost > 0\n",
    "\n",
    "''')"
   ]
  },
  {
   "cell_type": "markdown",
   "metadata": {},
   "source": [
    "Q3: How can you produce a list of facilities that charge a fee to members,\n",
    "where the fee is less than 20% of the facility's monthly maintenance cost?\n",
    "Return the facid, facility name, member cost, and monthly maintenance of the\n",
    "facilities in question."
   ]
  },
  {
   "cell_type": "code",
   "execution_count": 57,
   "metadata": {},
   "outputs": [
    {
     "name": "stdout",
     "output_type": "stream",
     "text": [
      "facid   facility name  member cost  monthly maintenance\n",
      "    0  Tennis Court 1          5.0                  200\n",
      "    1  Tennis Court 2          5.0                  200\n",
      "    4  Massage Room 1          9.9                 3000\n",
      "    5  Massage Room 2          9.9                 3000\n",
      "    6    Squash Court          3.5                   80\n"
     ]
    }
   ],
   "source": [
    "run_query('''\n",
    "\n",
    "SELECT facid, \n",
    "       name AS \"facility name\", \n",
    "       membercost AS \"member cost\",\n",
    "       monthlymaintenance AS \"monthly maintenance\"\n",
    "  FROM Facilities\n",
    " WHERE membercost > 0\n",
    "   AND membercost < .2*monthlymaintenance\n",
    "\n",
    "''')"
   ]
  },
  {
   "cell_type": "markdown",
   "metadata": {},
   "source": [
    "Q4: How can you retrieve the details of facilities with ID 1 and 5?\n",
    "Write the query without using the OR operator."
   ]
  },
  {
   "cell_type": "code",
   "execution_count": 58,
   "metadata": {},
   "outputs": [
    {
     "name": "stdout",
     "output_type": "stream",
     "text": [
      "facid            name  membercost  guestcost  initialoutlay  monthlymaintenance\n",
      "    1  Tennis Court 2         5.0       25.0           8000                 200\n",
      "    5  Massage Room 2         9.9       80.0           4000                3000\n"
     ]
    }
   ],
   "source": [
    "run_query('''\n",
    "\n",
    "SELECT *\n",
    "  FROM Facilities\n",
    " WHERE facid in (1,5)\n",
    "\n",
    "''')"
   ]
  },
  {
   "cell_type": "markdown",
   "metadata": {},
   "source": [
    "Q5: How can you produce a list of facilities, with each labelled as\n",
    "'cheap' or 'expensive', depending on if their monthly maintenance cost is\n",
    "more than $100? Return the name and monthly maintenance of the facilities\n",
    "in question."
   ]
  },
  {
   "cell_type": "code",
   "execution_count": 59,
   "metadata": {},
   "outputs": [
    {
     "name": "stdout",
     "output_type": "stream",
     "text": [
      "facility name  monthly maintenance cheap or expensive?\n",
      " Tennis Court 1                  200           expensive\n",
      " Tennis Court 2                  200           expensive\n",
      "Badminton Court                   50               cheap\n",
      "   Table Tennis                   10               cheap\n",
      " Massage Room 1                 3000           expensive\n",
      " Massage Room 2                 3000           expensive\n",
      "   Squash Court                   80               cheap\n",
      "  Snooker Table                   15               cheap\n",
      "     Pool Table                   15               cheap\n"
     ]
    }
   ],
   "source": [
    "run_query('''\n",
    "\n",
    "SELECT name AS \"facility name\", \n",
    "       monthlymaintenance AS \"monthly maintenance\",\n",
    "       CASE WHEN monthlymaintenance > 100 THEN 'expensive'\n",
    "            WHEN monthlymaintenance <= 100 THEN 'cheap'\n",
    "            ELSE 'error'\n",
    "            END AS \"cheap or expensive?\"\n",
    "  FROM Facilities\n",
    "\n",
    "''')"
   ]
  },
  {
   "cell_type": "code",
   "execution_count": null,
   "metadata": {},
   "outputs": [],
   "source": []
  },
  {
   "cell_type": "code",
   "execution_count": null,
   "metadata": {},
   "outputs": [],
   "source": []
  },
  {
   "cell_type": "code",
   "execution_count": null,
   "metadata": {},
   "outputs": [],
   "source": []
  },
  {
   "cell_type": "code",
   "execution_count": 61,
   "metadata": {},
   "outputs": [
    {
     "name": "stdout",
     "output_type": "stream",
     "text": [
      "memid surname firstname                       address  zipcode       telephone recommendedby             joindate\n",
      "    0   GUEST     GUEST                         GUEST        0  (000) 000-0000                2012-07-01 00:00:00\n",
      "    1   Smith    Darren    8 Bloomsbury Close, Boston     4321    555-555-5555                2012-07-02 12:02:05\n",
      "    2   Smith     Tracy  8 Bloomsbury Close, New York     4321    555-555-5555                2012-07-02 12:08:23\n",
      "    3  Rownam       Tim        23 Highway Way, Boston    23423  (844) 693-0723                2012-07-03 09:32:15\n"
     ]
    }
   ],
   "source": [
    "df = run_query('''\n",
    "\n",
    "SELECT *\n",
    "  FROM Members\n",
    " LIMIT 4\n",
    "\n",
    "''', save=True)"
   ]
  },
  {
   "cell_type": "code",
   "execution_count": 62,
   "metadata": {},
   "outputs": [
    {
     "data": {
      "text/html": [
       "<div>\n",
       "<style>\n",
       "    .dataframe thead tr:only-child th {\n",
       "        text-align: right;\n",
       "    }\n",
       "\n",
       "    .dataframe thead th {\n",
       "        text-align: left;\n",
       "    }\n",
       "\n",
       "    .dataframe tbody tr th {\n",
       "        vertical-align: top;\n",
       "    }\n",
       "</style>\n",
       "<table border=\"1\" class=\"dataframe\">\n",
       "  <thead>\n",
       "    <tr style=\"text-align: right;\">\n",
       "      <th></th>\n",
       "      <th>memid</th>\n",
       "      <th>surname</th>\n",
       "      <th>firstname</th>\n",
       "      <th>address</th>\n",
       "      <th>zipcode</th>\n",
       "      <th>telephone</th>\n",
       "      <th>recommendedby</th>\n",
       "      <th>joindate</th>\n",
       "    </tr>\n",
       "  </thead>\n",
       "  <tbody>\n",
       "    <tr>\n",
       "      <th>0</th>\n",
       "      <td>0</td>\n",
       "      <td>GUEST</td>\n",
       "      <td>GUEST</td>\n",
       "      <td>GUEST</td>\n",
       "      <td>0</td>\n",
       "      <td>(000) 000-0000</td>\n",
       "      <td></td>\n",
       "      <td>2012-07-01 00:00:00</td>\n",
       "    </tr>\n",
       "    <tr>\n",
       "      <th>1</th>\n",
       "      <td>1</td>\n",
       "      <td>Smith</td>\n",
       "      <td>Darren</td>\n",
       "      <td>8 Bloomsbury Close, Boston</td>\n",
       "      <td>4321</td>\n",
       "      <td>555-555-5555</td>\n",
       "      <td></td>\n",
       "      <td>2012-07-02 12:02:05</td>\n",
       "    </tr>\n",
       "    <tr>\n",
       "      <th>2</th>\n",
       "      <td>2</td>\n",
       "      <td>Smith</td>\n",
       "      <td>Tracy</td>\n",
       "      <td>8 Bloomsbury Close, New York</td>\n",
       "      <td>4321</td>\n",
       "      <td>555-555-5555</td>\n",
       "      <td></td>\n",
       "      <td>2012-07-02 12:08:23</td>\n",
       "    </tr>\n",
       "    <tr>\n",
       "      <th>3</th>\n",
       "      <td>3</td>\n",
       "      <td>Rownam</td>\n",
       "      <td>Tim</td>\n",
       "      <td>23 Highway Way, Boston</td>\n",
       "      <td>23423</td>\n",
       "      <td>(844) 693-0723</td>\n",
       "      <td></td>\n",
       "      <td>2012-07-03 09:32:15</td>\n",
       "    </tr>\n",
       "  </tbody>\n",
       "</table>\n",
       "</div>"
      ],
      "text/plain": [
       "   memid surname firstname                       address  zipcode  \\\n",
       "0      0   GUEST     GUEST                         GUEST        0   \n",
       "1      1   Smith    Darren    8 Bloomsbury Close, Boston     4321   \n",
       "2      2   Smith     Tracy  8 Bloomsbury Close, New York     4321   \n",
       "3      3  Rownam       Tim        23 Highway Way, Boston    23423   \n",
       "\n",
       "        telephone recommendedby             joindate  \n",
       "0  (000) 000-0000                2012-07-01 00:00:00  \n",
       "1    555-555-5555                2012-07-02 12:02:05  \n",
       "2    555-555-5555                2012-07-02 12:08:23  \n",
       "3  (844) 693-0723                2012-07-03 09:32:15  "
      ]
     },
     "execution_count": 62,
     "metadata": {},
     "output_type": "execute_result"
    }
   ],
   "source": [
    "df"
   ]
  },
  {
   "cell_type": "code",
   "execution_count": 63,
   "metadata": {},
   "outputs": [
    {
     "name": "stdout",
     "output_type": "stream",
     "text": [
      "bookid  facid  memid            starttime  slots\n",
      "     0      3      1  2012-07-03 11:00:00      2\n",
      "     1      4      1  2012-07-03 08:00:00      2\n",
      "     2      6      0  2012-07-03 18:00:00      2\n",
      "     3      7      1  2012-07-03 19:00:00      2\n"
     ]
    }
   ],
   "source": [
    "df = run_query('''\n",
    "\n",
    "SELECT *\n",
    "  FROM Bookings\n",
    " LIMIT 4\n",
    "\n",
    "''', save=True)"
   ]
  },
  {
   "cell_type": "code",
   "execution_count": null,
   "metadata": {},
   "outputs": [],
   "source": []
  },
  {
   "cell_type": "code",
   "execution_count": null,
   "metadata": {},
   "outputs": [],
   "source": []
  },
  {
   "cell_type": "code",
   "execution_count": null,
   "metadata": {},
   "outputs": [],
   "source": []
  },
  {
   "cell_type": "markdown",
   "metadata": {},
   "source": [
    "Q6: You'd like to get the first and last name of the last member(s)\n",
    "who signed up. Do not use the LIMIT clause for your solution."
   ]
  },
  {
   "cell_type": "code",
   "execution_count": 71,
   "metadata": {},
   "outputs": [
    {
     "name": "stdout",
     "output_type": "stream",
     "text": [
      "first name last name\n",
      "   Darren     Smith\n"
     ]
    }
   ],
   "source": [
    "run_query('''\n",
    "\n",
    "  SELECT firstname AS \"first name\",\n",
    "         surname AS \"last name\"\n",
    "    FROM Members\n",
    "   WHERE joindate = (SELECT MAX(joindate) FROM Members)\n",
    "\n",
    "''')"
   ]
  },
  {
   "cell_type": "markdown",
   "metadata": {},
   "source": [
    "Q7: How can you produce a list of all members who have used a tennis court?\n",
    "Include in your output the name of the court, and the name of the member\n",
    "formatted as a single column. Ensure no duplicate data, and order by\n",
    "the member name."
   ]
  },
  {
   "cell_type": "code",
   "execution_count": 80,
   "metadata": {},
   "outputs": [
    {
     "name": "stdout",
     "output_type": "stream",
     "text": [
      "member name      court name\n",
      "       Anne Baker  Tennis Court 2\n",
      "       Anne Baker  Tennis Court 1\n",
      "     Burton Tracy  Tennis Court 2\n",
      "     Burton Tracy  Tennis Court 1\n",
      "     Charles Owen  Tennis Court 2\n",
      "     Charles Owen  Tennis Court 1\n",
      "     Darren Smith  Tennis Court 2\n",
      "    David Farrell  Tennis Court 1\n",
      "    David Farrell  Tennis Court 2\n",
      "      David Jones  Tennis Court 2\n",
      "      David Jones  Tennis Court 1\n",
      "     David Pinker  Tennis Court 1\n",
      "    Douglas Jones  Tennis Court 1\n",
      "    Erica Crumpet  Tennis Court 1\n",
      "   Florence Bader  Tennis Court 1\n",
      "   Florence Bader  Tennis Court 2\n",
      "   Gerald Butters  Tennis Court 2\n",
      "   Gerald Butters  Tennis Court 1\n",
      "      GUEST GUEST  Tennis Court 1\n",
      "      GUEST GUEST  Tennis Court 2\n",
      " Henrietta Rumney  Tennis Court 2\n",
      "       Jack Smith  Tennis Court 2\n",
      "       Jack Smith  Tennis Court 1\n",
      "  Janice Joplette  Tennis Court 1\n",
      "  Janice Joplette  Tennis Court 2\n",
      "   Jemima Farrell  Tennis Court 1\n",
      "   Jemima Farrell  Tennis Court 2\n",
      "      Joan Coplin  Tennis Court 1\n",
      "        John Hunt  Tennis Court 2\n",
      "        John Hunt  Tennis Court 1\n",
      "  Matthew Genting  Tennis Court 1\n",
      "Millicent Purview  Tennis Court 2\n",
      "       Nancy Dare  Tennis Court 2\n",
      "       Nancy Dare  Tennis Court 1\n",
      "  Ponder Stibbons  Tennis Court 2\n",
      "  Ponder Stibbons  Tennis Court 1\n",
      " Ramnaresh Sarwin  Tennis Court 1\n",
      " Ramnaresh Sarwin  Tennis Court 2\n",
      "       Tim Boothe  Tennis Court 1\n",
      "       Tim Boothe  Tennis Court 2\n",
      "       Tim Rownam  Tennis Court 1\n",
      "       Tim Rownam  Tennis Court 2\n",
      "    Timothy Baker  Tennis Court 2\n",
      "    Timothy Baker  Tennis Court 1\n",
      "      Tracy Smith  Tennis Court 1\n",
      "      Tracy Smith  Tennis Court 2\n"
     ]
    }
   ],
   "source": [
    "run_query('''\n",
    "\n",
    "  SELECT DISTINCT CONCAT(m.firstname, ' ', m.surname) AS \"member name\", \n",
    "                  f.name AS \"court name\"\n",
    "    FROM Members m\n",
    "    JOIN Bookings b\n",
    "    JOIN Facilities f\n",
    "      ON m.memid = b.memid\n",
    "     AND b.facid = f.facid\n",
    "   WHERE SUBSTRING(f.name, 1, 12) = 'Tennis Court'\n",
    "ORDER BY 1\n",
    "\n",
    "''')"
   ]
  },
  {
   "cell_type": "markdown",
   "metadata": {},
   "source": [
    "Q8: How can you produce a list of bookings on the day of 2012-09-14 which\n",
    "will cost the member (or guest) more than $30? Remember that guests have\n",
    "different costs to members (the listed costs are per half-hour 'slot'), and\n",
    "the guest user's ID is always 0. Include in your output the name of the\n",
    "facility, the name of the member formatted as a single column, and the cost.\n",
    "Order by descending cost, and do not use any subqueries."
   ]
  },
  {
   "cell_type": "code",
   "execution_count": 111,
   "metadata": {},
   "outputs": [
    {
     "name": "stdout",
     "output_type": "stream",
     "text": [
      "facility name     member name  total cost\n",
      "Massage Room 2     GUEST GUEST       320.0\n",
      "Massage Room 1     GUEST GUEST       160.0\n",
      "Massage Room 1     GUEST GUEST       160.0\n",
      "Massage Room 1     GUEST GUEST       160.0\n",
      "Tennis Court 2     GUEST GUEST       150.0\n",
      "Tennis Court 1     GUEST GUEST        75.0\n",
      "Tennis Court 2     GUEST GUEST        75.0\n",
      "Tennis Court 1     GUEST GUEST        75.0\n",
      "  Squash Court     GUEST GUEST        70.0\n",
      "Massage Room 1  Jemima Farrell        39.6\n",
      "  Squash Court     GUEST GUEST        35.0\n",
      "  Squash Court     GUEST GUEST        35.0\n"
     ]
    }
   ],
   "source": [
    "run_query('''\n",
    "\n",
    "  SELECT f.name AS \"facility name\",\n",
    "         CONCAT(m.firstname, ' ', m.surname) AS \"member name\",\n",
    "         CASE WHEN m.memid = 0 THEN b.slots * f.guestcost\n",
    "              ELSE b.slots * f.membercost\n",
    "              END AS \"total cost\"\n",
    "    FROM Members m\n",
    "    JOIN Bookings b\n",
    "    JOIN Facilities f\n",
    "      ON m.memid = b.memid\n",
    "     AND b.facid = f.facid\n",
    "   WHERE CASE WHEN m.memid = 0 THEN b.slots * f.guestcost\n",
    "              ELSE b.slots * f.membercost\n",
    "              END > 30\n",
    "     AND DATE(b.starttime) = '2012-09-14'\n",
    "ORDER BY 3 DESC\n",
    "\n",
    "''')"
   ]
  },
  {
   "cell_type": "markdown",
   "metadata": {},
   "source": [
    "Q9: This time, produce the same result as in Q8, but using a subquery."
   ]
  },
  {
   "cell_type": "code",
   "execution_count": 117,
   "metadata": {},
   "outputs": [
    {
     "name": "stdout",
     "output_type": "stream",
     "text": [
      "facility name     member name  total cost\n",
      "Massage Room 2     GUEST GUEST       320.0\n",
      "Massage Room 1     GUEST GUEST       160.0\n",
      "Massage Room 1     GUEST GUEST       160.0\n",
      "Massage Room 1     GUEST GUEST       160.0\n",
      "Tennis Court 2     GUEST GUEST       150.0\n",
      "Tennis Court 1     GUEST GUEST        75.0\n",
      "Tennis Court 1     GUEST GUEST        75.0\n",
      "Tennis Court 2     GUEST GUEST        75.0\n",
      "  Squash Court     GUEST GUEST        70.0\n",
      "Massage Room 1  Jemima Farrell        39.6\n",
      "  Squash Court     GUEST GUEST        35.0\n",
      "  Squash Court     GUEST GUEST        35.0\n"
     ]
    }
   ],
   "source": [
    "run_query('''\n",
    "\n",
    "  SELECT t.fname AS \"facility name\", \n",
    "         t.mname AS \"member name\", \n",
    "         t.cost AS \"total cost\"\n",
    "  FROM (\n",
    "       SELECT f.name AS fname,\n",
    "              CONCAT(m.firstname, ' ', m.surname) AS mname,\n",
    "              CASE WHEN m.memid = 0 THEN b.slots * f.guestcost\n",
    "                   ELSE b.slots * f.membercost\n",
    "                   END AS cost,\n",
    "              DATE(b.starttime) AS bdate\n",
    "         FROM Members m\n",
    "         JOIN Bookings b\n",
    "         JOIN Facilities f\n",
    "           ON m.memid = b.memid\n",
    "          AND b.facid = f.facid\n",
    "       ) t\n",
    "   WHERE t.cost > 30\n",
    "     AND t.bdate = '2012-09-14'\n",
    "ORDER BY 3 DESC\n",
    "\n",
    "''')"
   ]
  },
  {
   "cell_type": "markdown",
   "metadata": {},
   "source": [
    "Q10: Produce a list of facilities with a total revenue less than 1000.\n",
    "The output of facility name and total revenue, sorted by revenue. Remember\n",
    "that there's a different cost for guests and members!"
   ]
  },
  {
   "cell_type": "code",
   "execution_count": 118,
   "metadata": {},
   "outputs": [
    {
     "name": "stdout",
     "output_type": "stream",
     "text": [
      "facility name  total revenue\n",
      "   Table Tennis          180.0\n",
      "  Snooker Table          240.0\n",
      "     Pool Table          270.0\n",
      "Badminton Court         1906.5\n",
      "   Squash Court        13468.0\n",
      " Tennis Court 1        13860.0\n",
      " Tennis Court 2        14310.0\n",
      " Massage Room 2        14454.6\n",
      " Massage Room 1        50351.6\n"
     ]
    }
   ],
   "source": [
    "run_query('''\n",
    "\n",
    "  SELECT f.name AS \"facility name\",\n",
    "         SUM( CASE WHEN m.memid = 0 THEN b.slots * f.guestcost\n",
    "              ELSE b.slots * f.membercost\n",
    "              END ) AS \"total revenue\"\n",
    "    FROM Members m\n",
    "    JOIN Bookings b\n",
    "    JOIN Facilities f\n",
    "      ON m.memid = b.memid\n",
    "     AND b.facid = f.facid\n",
    "GROUP BY f.name\n",
    "ORDER BY 2\n",
    "\n",
    "''')"
   ]
  },
  {
   "cell_type": "code",
   "execution_count": null,
   "metadata": {},
   "outputs": [],
   "source": []
  }
 ],
 "metadata": {
  "kernelspec": {
   "display_name": "Python 3",
   "language": "python",
   "name": "python3"
  }
 },
 "nbformat": 4,
 "nbformat_minor": 2
}
